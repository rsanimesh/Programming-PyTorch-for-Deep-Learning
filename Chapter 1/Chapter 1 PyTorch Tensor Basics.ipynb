{
 "cells": [
  {
   "cell_type": "markdown",
   "id": "4761177c-1e26-4306-a7c5-ca4b5da7d41f",
   "metadata": {},
   "source": [
    "# Initial Setup and Environment Check\n",
    "Checking PyTorch Installation and GPU Availability: Let's start by ensuring that PyTorch is installed correctly and checking if a compatible GPU with CUDA support is available."
   ]
  },
  {
   "cell_type": "code",
   "execution_count": 6,
   "id": "1cc900c9-022e-4c3b-9c4a-0424cab6fbdb",
   "metadata": {},
   "outputs": [
    {
     "name": "stdout",
     "output_type": "stream",
     "text": [
      "PyTorch Version: 2.1.0+cu118\n",
      "CUDA (GPU) is available\n"
     ]
    }
   ],
   "source": [
    "import torch\n",
    "\n",
    "# Check PyTorch version\n",
    "print(f\"PyTorch Version: {torch.__version__}\")\n",
    "\n",
    "# Check if CUDA (GPU) is available\n",
    "if torch.cuda.is_available():\n",
    "    print(\"CUDA (GPU) is available\")\n",
    "else:\n",
    "    print(\"CUDA (GPU) is not available. You can still work with CPU.\")"
   ]
  },
  {
   "cell_type": "code",
   "execution_count": 5,
   "id": "7ffe4e92-865c-4144-81b8-39973e470d2a",
   "metadata": {},
   "outputs": [
    {
     "name": "stdout",
     "output_type": "stream",
     "text": [
      "tensor([[0.0749, 0.5576],\n",
      "        [0.2465, 0.3409]])\n"
     ]
    }
   ],
   "source": [
    "print(torch.rand(2,2))"
   ]
  },
  {
   "cell_type": "markdown",
   "id": "31fd5853-6da4-47ac-a368-c2407a74d8f5",
   "metadata": {},
   "source": [
    "# PyTorch Tensor Basics"
   ]
  },
  {
   "cell_type": "markdown",
   "id": "e9b1355d-cdfb-4dd1-a0e8-0a85af81bee1",
   "metadata": {},
   "source": [
    "\n",
    "Introduction to Tensor\n",
    "s    - \r\n",
    "What are Tensors    - ?\r\n",
    "Why Tensors are Important in PyTor    - ch\r\n",
    "Creating Tens    - ors\r\n",
    "Tensor Data \n",
    "    Types\r\n",
    "Tensor Oper\n",
    "a    tions\r\n",
    "Basic Tensor Oper    ations\r\n",
    "Element-Wise Ope    rations\r\n",
    "Reshaping\n",
    " Tensors\r\n",
    "Indexing an\n",
    "    d Slicing\r\n",
    "Accessin    g Elements\r\n",
    "Slic    ing Tensors\r\n",
    "Advan\n",
    "ced Indexing\r\n",
    "Tens    \n",
    "    ors and NumPy\r\n",
    "Converting Between PyTorch Tensors an    d NumPy Arrays\r\n",
    "I\n",
    "nteroperability\r\n",
    "Tensor Operations with GPU    \n",
    "     (if applicable)\r\n",
    "Movi    ng Tensors to GPU\r\n",
    "Performing Op\n",
    "erations on the GPU"
   ]
  },
  {
   "cell_type": "code",
   "execution_count": null,
   "id": "f152c356-dd0a-4edd-9184-2362a22d786c",
   "metadata": {},
   "outputs": [],
   "source": []
  }
 ],
 "metadata": {
  "kernelspec": {
   "display_name": "pytorch_venv",
   "language": "python",
   "name": "pytorch_venv"
  },
  "language_info": {
   "codemirror_mode": {
    "name": "ipython",
    "version": 3
   },
   "file_extension": ".py",
   "mimetype": "text/x-python",
   "name": "python",
   "nbconvert_exporter": "python",
   "pygments_lexer": "ipython3",
   "version": "3.11.2"
  }
 },
 "nbformat": 4,
 "nbformat_minor": 5
}
