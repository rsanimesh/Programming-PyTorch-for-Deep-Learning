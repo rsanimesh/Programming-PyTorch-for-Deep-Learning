{
 "cells": [
  {
   "cell_type": "markdown",
   "id": "2d2af031-9da6-4b99-ac8e-fd07fc4275a6",
   "metadata": {},
   "source": [
    "# Chapter 4: Transfer Learning And Other Tricks"
   ]
  },
  {
   "cell_type": "code",
   "execution_count": 1,
   "id": "7fe68448-55a6-4a68-896a-310e8603ad5c",
   "metadata": {},
   "outputs": [],
   "source": [
    "import torch\n",
    "import torch.nn as nn\n",
    "import torch.optim as optim\n",
    "import torch.utils.data\n",
    "import torch.nn.functional as F\n",
    "import torchvision\n",
    "import torchvision.models as models\n",
    "from torchvision import transforms\n",
    "from PIL import Image\n",
    "import matplotlib.pyplot as plt"
   ]
  },
  {
   "cell_type": "code",
   "execution_count": 2,
   "id": "19fec7ba-5100-4288-ace8-4cf4d6a73d49",
   "metadata": {},
   "outputs": [
    {
     "name": "stderr",
     "output_type": "stream",
     "text": [
      "D:\\Software\\Python Enviorments\\pytorch_venv\\Lib\\site-packages\\torchvision\\models\\_utils.py:208: UserWarning: The parameter 'pretrained' is deprecated since 0.13 and may be removed in the future, please use 'weights' instead.\n",
      "  warnings.warn(\n",
      "D:\\Software\\Python Enviorments\\pytorch_venv\\Lib\\site-packages\\torchvision\\models\\_utils.py:223: UserWarning: Arguments other than a weight enum or `None` for 'weights' are deprecated since 0.13 and may be removed in the future. The current behavior is equivalent to passing `weights=ResNet50_Weights.IMAGENET1K_V1`. You can also use `weights=ResNet50_Weights.DEFAULT` to get the most up-to-date weights.\n",
      "  warnings.warn(msg)\n"
     ]
    }
   ],
   "source": [
    "transfer_model = models.resnet50(pretrained=True) "
   ]
  },
  {
   "cell_type": "markdown",
   "id": "da39ff7b-7289-401c-8002-9dbc5d844de7",
   "metadata": {},
   "source": [
    "## Freezing parameters\n",
    "\n",
    "Batch normalization (often labeled as \"bn\" in parameters) normalizes input in neural networks. When you freeze network parameters, they don't update during training. Batch normalization layers should usually remain unfrozen to adapt to data statistics. Excluding parameters with \"bn\" in their names keeps these layers trainable, vital for model performance and convergence, while other layers like convolutional and fully connected ones can be frozen for fine-tuning.e."
   ]
  },
  {
   "cell_type": "code",
   "execution_count": 3,
   "id": "cfa44150-49e7-422e-8348-b393b31e6c8e",
   "metadata": {},
   "outputs": [],
   "source": [
    "# Freeze all model parameters except for batch normalization layers (bn)\n",
    "for name, param in transfer_model.named_parameters():\n",
    "    if(\"bn\" not in name): # \n",
    "        param.requires_grad = False"
   ]
  },
  {
   "cell_type": "markdown",
   "id": "dc5355d2-ae7b-4299-acf8-d8f0667488a3",
   "metadata": {},
   "source": [
    "## Replacing the classifier"
   ]
  },
  {
   "cell_type": "code",
   "execution_count": 4,
   "id": "e5e74d81-33d8-4be0-bc3a-fd25845cfad4",
   "metadata": {},
   "outputs": [],
   "source": [
    "transfer_model.fc = nn.Sequential(nn.Linear(transfer_model.fc.in_features,500),\n",
    "nn.ReLU(),                                 \n",
    "nn.Dropout(), nn.Linear(500,2)) "
   ]
  },
  {
   "cell_type": "code",
   "execution_count": 5,
   "id": "73dc4f79-61b2-47d0-89ce-f94f6b276bd1",
   "metadata": {},
   "outputs": [],
   "source": [
    "def train(model, optimizer, loss_fn, train_loader, val_loader, epochs=20, device=\"cpu\"):\n",
    "    for epoch in range(1, epochs+1):\n",
    "        training_loss = 0.0\n",
    "        valid_loss = 0.0\n",
    "        model.train()\n",
    "        for batch in train_loader:\n",
    "            optimizer.zero_grad()\n",
    "            inputs, targets = batch\n",
    "            inputs = inputs.to(device)\n",
    "            targets = targets.to(device)\n",
    "            output = model(inputs)\n",
    "            loss = loss_fn(output, targets)\n",
    "            loss.backward()\n",
    "            optimizer.step()\n",
    "            training_loss += loss.data.item() * inputs.size(0)\n",
    "        training_loss /= len(train_loader.dataset)\n",
    "        \n",
    "        model.eval()\n",
    "        num_correct = 0 \n",
    "        num_examples = 0\n",
    "        for batch in val_loader:\n",
    "            inputs, targets = batch\n",
    "            inputs = inputs.to(device)\n",
    "            output = model(inputs)\n",
    "            targets = targets.to(device)\n",
    "            loss = loss_fn(output,targets) \n",
    "            valid_loss += loss.data.item() * inputs.size(0)\n",
    "            correct = torch.eq(torch.max(F.softmax(output), dim=1)[1], targets).view(-1)\n",
    "            num_correct += torch.sum(correct).item()\n",
    "            num_examples += correct.shape[0]\n",
    "        valid_loss /= len(val_loader.dataset)\n",
    "\n",
    "        print('Epoch: {}, Training Loss: {:.2f}, Validation Loss: {:.2f}, accuracy = {:.2f}'.format(epoch, training_loss,\n",
    "        valid_loss, num_correct / num_examples))"
   ]
  },
  {
   "cell_type": "code",
   "execution_count": 6,
   "id": "50a93ab0-bedf-45e4-bcab-d418bb126c7c",
   "metadata": {},
   "outputs": [],
   "source": [
    "def check_image(path):\n",
    "    try:\n",
    "        im = Image.open(path)\n",
    "        return True\n",
    "    except:\n",
    "        return False\n",
    "\n",
    "img_transforms = transforms.Compose([\n",
    "    transforms.Resize((64,64)),    \n",
    "    transforms.ToTensor(),\n",
    "    transforms.Normalize(mean=[0.485, 0.456, 0.406],\n",
    "                         std=[0.229, 0.224, 0.225] )\n",
    "    ])\n",
    "train_data_path = \"../Chapter 2/train/\"\n",
    "train_data = torchvision.datasets.ImageFolder(root=train_data_path,transform=img_transforms, is_valid_file=check_image)\n",
    "val_data_path = \"../Chapter 2/val/\"\n",
    "val_data = torchvision.datasets.ImageFolder(root=val_data_path,transform=img_transforms, is_valid_file=check_image)\n",
    "batch_size=64\n",
    "train_data_loader = torch.utils.data.DataLoader(train_data, batch_size=batch_size, shuffle=True)\n",
    "val_data_loader  = torch.utils.data.DataLoader(val_data, batch_size=batch_size, shuffle=True)\n",
    "\n",
    "if torch.cuda.is_available():\n",
    "    device = torch.device(\"cuda\") \n",
    "else:\n",
    "    device = torch.device(\"cpu\")"
   ]
  },
  {
   "cell_type": "code",
   "execution_count": 7,
   "id": "3caa2b81-ec56-4d65-b24f-b0d5d885dd94",
   "metadata": {},
   "outputs": [
    {
     "name": "stdout",
     "output_type": "stream",
     "text": [
      "102\n"
     ]
    }
   ],
   "source": [
    "print(len(val_data_loader.dataset))"
   ]
  },
  {
   "cell_type": "code",
   "execution_count": 8,
   "id": "8ef908a3-1a1e-4910-ac99-1464cc691747",
   "metadata": {},
   "outputs": [],
   "source": [
    "transfer_model.to(device)\n",
    "optimizer = optim.Adam(transfer_model.parameters(), lr=0.001)"
   ]
  },
  {
   "cell_type": "code",
   "execution_count": 9,
   "id": "e171af7a-d059-40ea-a4f9-944b850e0aa4",
   "metadata": {},
   "outputs": [
    {
     "name": "stderr",
     "output_type": "stream",
     "text": [
      "C:\\Users\\rsani\\AppData\\Local\\Temp\\ipykernel_12072\\1650489001.py:28: UserWarning: Implicit dimension choice for softmax has been deprecated. Change the call to include dim=X as an argument.\n",
      "  correct = torch.eq(torch.max(F.softmax(output), dim=1)[1], targets).view(-1)\n"
     ]
    },
    {
     "name": "stdout",
     "output_type": "stream",
     "text": [
      "Epoch: 1, Training Loss: 0.57, Validation Loss: 0.29, accuracy = 0.88\n",
      "Epoch: 2, Training Loss: 0.19, Validation Loss: 0.46, accuracy = 0.85\n",
      "Epoch: 3, Training Loss: 0.10, Validation Loss: 0.43, accuracy = 0.85\n",
      "Epoch: 4, Training Loss: 0.14, Validation Loss: 0.21, accuracy = 0.94\n",
      "Epoch: 5, Training Loss: 0.03, Validation Loss: 0.23, accuracy = 0.93\n"
     ]
    }
   ],
   "source": [
    "train(transfer_model, optimizer,torch.nn.CrossEntropyLoss(), train_data_loader, val_data_loader, epochs=5,\n",
    "      device=device)"
   ]
  },
  {
   "cell_type": "markdown",
   "id": "d97a90c0-1793-46fd-9ebe-38ec00aa5f39",
   "metadata": {},
   "source": [
    "## LR Finder"
   ]
  },
  {
   "cell_type": "code",
   "execution_count": 39,
   "id": "570e57aa-71f8-4dd5-8cb6-03a42f72d3c2",
   "metadata": {},
   "outputs": [],
   "source": [
    "def find_lr(model, loss_fn, optimizer, train_loader, init_value=1e-8, final_value=10.0, device=\"cpu\"):\n",
    "    # Calculate the number of iterations in an epoch\n",
    "    number_in_epoch = len(train_loader) - 1\n",
    "    # Calculate the update step for learning rate\n",
    "    update_step = (final_value / init_value) ** (1 / number_in_epoch)\n",
    "    # Initialize the learning rate\n",
    "    lr = init_value\n",
    "    # Set the initial learning rate in the optimizer\n",
    "    optimizer.param_groups[0][\"lr\"] = lr\n",
    "    # Initialize variables to track the best loss, current batch number, and lists for losses and learning rates\n",
    "    best_loss = 0.0\n",
    "    batch_num = 0\n",
    "    losses = []\n",
    "    log_lrs = []\n",
    "\n",
    "    # Loop through the data in the training loader\n",
    "    for data in train_loader:\n",
    "        batch_num += 1\n",
    "        inputs, targets = data\n",
    "        inputs = inputs.to(device)\n",
    "        targets = targets.to(device)\n",
    "        optimizer.zero_grad()\n",
    "        outputs = model(inputs)\n",
    "        loss = loss_fn(outputs, targets)\n",
    "\n",
    "        # Check for an exploding loss and return if necessary\n",
    "        if batch_num > 1 and loss > 4 * best_loss:\n",
    "            if len(log_lrs) > 20:\n",
    "                return log_lrs[10:-5], losses[10:-5]\n",
    "            else:\n",
    "                return log_lrs, losses\n",
    "\n",
    "        # Record the best loss\n",
    "        if loss < best_loss or batch_num == 1:\n",
    "            best_loss = loss\n",
    "\n",
    "        # Store the current loss and learning rate values\n",
    "        losses.append(loss.item())\n",
    "        log_lrs.append(lr)\n",
    "\n",
    "        # Perform the backward pass and optimize the model\n",
    "        loss.backward()\n",
    "        optimizer.step()\n",
    "\n",
    "        # Update the learning rate for the next step\n",
    "        lr *= update_step\n",
    "        optimizer.param_groups[0][\"lr\"] = lr\n",
    "\n",
    "    # Return the learning rates and losses\n",
    "    if len(log_lrs) > 20:\n",
    "        return log_lrs[10:-5], losses[10:-5]\n",
    "    else:\n",
    "        return log_lrs, losses"
   ]
  },
  {
   "cell_type": "code",
   "execution_count": 40,
   "id": "bba4d773-1b8a-4aaa-a514-0b937fae4bd7",
   "metadata": {},
   "outputs": [
    {
     "data": {
      "image/png": "[encoded data removed]",
      "text/plain": [
       "<Figure size 640x480 with 1 Axes>"
      ]
     },
     "metadata": {},
     "output_type": "display_data"
    }
   ],
   "source": [
    "(lrs, losses) = find_lr(transfer_model, torch.nn.CrossEntropyLoss(),optimizer, train_data_loader,device=device)\n",
    "plt.plot(lrs, losses)\n",
    "\n",
    "plt.xscale(\"log\")\n",
    "plt.xlabel(\"Learning rate\")\n",
    "plt.ylabel(\"Loss\")\n",
    "plt.grid(True)\n",
    "plt.show()"
   ]
  },
  {
   "cell_type": "markdown",
   "id": "c54c52af-8af4-4a33-93da-6a3f519bbb95",
   "metadata": {},
   "source": [
    "## Custom Transforms\n",
    "Here we'll create a lambda transform and a custom transform class."
   ]
  },
  {
   "cell_type": "code",
   "execution_count": 41,
   "id": "c4df25f3-8a07-404d-a34f-0faad3b190ae",
   "metadata": {},
   "outputs": [],
   "source": [
    "def _random_colour_space(x):\n",
    "    output = x.convert(\"HSV\")\n",
    "    return output "
   ]
  },
  {
   "cell_type": "code",
   "execution_count": 42,
   "id": "be2ca697-6aa4-467f-a630-740b7d1f540e",
   "metadata": {},
   "outputs": [],
   "source": [
    "colour_transform = transforms.Lambda(lambda x: _random_colour_space(x))\n",
    "random_colour_transform = torchvision.transforms.RandomApply([colour_transform])"
   ]
  },
  {
   "cell_type": "code",
   "execution_count": 43,
   "id": "69b0ecab-3af3-4d3f-8022-18e5e0c10ab5",
   "metadata": {},
   "outputs": [],
   "source": [
    "class Noise():\n",
    "    \"\"\"Adds gaussian noise to a tensor.\n",
    "    \n",
    "    Example:\n",
    "        >>> transforms.Compose([\n",
    "        >>>     transforms.ToTensor(),\n",
    "        >>>     Noise(0.1, 0.05)),\n",
    "        >>> ])\n",
    "    \n",
    "    \"\"\"\n",
    "    def __init__(self, mean, stddev):\n",
    "        self.mean = mean\n",
    "        self.stddev = stddev\n",
    "\n",
    "    def __call__(self, tensor):\n",
    "        noise = torch.zeros_like(tensor).normal_(self.mean, self.stddev)\n",
    "        return tensor.add_(noise)\n",
    "    \n",
    "    def __repr__(self):\n",
    "        repr = f\"{self.__class__.__name__  }(mean={self.mean},sttdev={self.stddev})\"\n",
    "        return repr"
   ]
  },
  {
   "cell_type": "code",
   "execution_count": 44,
   "id": "dc077255-8427-4209-b3d8-4344073f73db",
   "metadata": {},
   "outputs": [],
   "source": [
    "custom_transform_pipeline = transforms.Compose([random_colour_transform, Noise(0.1, 0.05)])"
   ]
  },
  {
   "cell_type": "markdown",
   "id": "d0211b0f-5a0b-48d6-a3cf-1c7cf0238f84",
   "metadata": {},
   "source": [
    "## Ensembles\n",
    "Given a list of models, we can produce predictions for each model and then make an average to make a final prediction."
   ]
  },
  {
   "cell_type": "code",
   "execution_count": 45,
   "id": "f94fcd7e-4fd2-4412-9d08-e3398dbd5531",
   "metadata": {},
   "outputs": [
    {
     "name": "stderr",
     "output_type": "stream",
     "text": [
      "C:\\Users\\rsani\\AppData\\Local\\Temp\\ipykernel_12072\\210517164.py:2: UserWarning: Implicit dimension choice for softmax has been deprecated. Change the call to include dim=X as an argument.\n",
      "  predictions = [F.softmax(m(torch.rand(1,3,224,244).to(device))) for m in models_ensemble]\n"
     ]
    }
   ],
   "source": [
    "models_ensemble = [models.resnet50().to(device), models.resnet50().to(device)]\n",
    "predictions = [F.softmax(m(torch.rand(1,3,224,244).to(device))) for m in models_ensemble] \n",
    "avg_prediction = torch.stack(predictions).mean(0).argmax()"
   ]
  },
  {
   "cell_type": "code",
   "execution_count": 46,
   "id": "57a341be-7838-4e6b-9787-3f295d55742b",
   "metadata": {},
   "outputs": [
    {
     "data": {
      "text/plain": [
       "tensor(23, device='cuda:0')"
      ]
     },
     "execution_count": 46,
     "metadata": {},
     "output_type": "execute_result"
    }
   ],
   "source": [
    "avg_prediction"
   ]
  },
  {
   "cell_type": "code",
   "execution_count": 48,
   "id": "deb2e13f-e6f3-43c3-b556-4b434c38597c",
   "metadata": {},
   "outputs": [
    {
     "data": {
      "text/plain": [
       "tensor([[[0.0056, 0.0011, 0.0012,  ..., 0.0007, 0.0015, 0.0006]],\n",
       "\n",
       "        [[0.0010, 0.0009, 0.0012,  ..., 0.0004, 0.0008, 0.0007]]],\n",
       "       device='cuda:0', grad_fn=<StackBackward0>)"
      ]
     },
     "execution_count": 48,
     "metadata": {},
     "output_type": "execute_result"
    }
   ],
   "source": [
    "torch.stack(predictions)"
   ]
  },
  {
   "cell_type": "code",
   "execution_count": null,
   "id": "fc0a1f71-f1c2-4e1c-8947-1c53f8f0b37e",
   "metadata": {},
   "outputs": [],
   "source": []
  }
 ],
 "metadata": {
  "kernelspec": {
   "display_name": "Python 3 (ipykernel)",
   "language": "python",
   "name": "python3"
  },
  "language_info": {
   "codemirror_mode": {
    "name": "ipython",
    "version": 3
   },
   "file_extension": ".py",
   "mimetype": "text/x-python",
   "name": "python",
   "nbconvert_exporter": "python",
   "pygments_lexer": "ipython3",
   "version": "3.11.2"
  }
 },
 "nbformat": 4,
 "nbformat_minor": 5
}
