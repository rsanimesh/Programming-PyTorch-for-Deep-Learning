{
 "cells": [
  {
   "cell_type": "code",
   "execution_count": 4,
   "id": "141fefdd-5795-4bc0-aa62-3befe1979e48",
   "metadata": {},
   "outputs": [],
   "source": [
    "import torch\n",
    "import torch.nn as nn\n",
    "import torch.optim as optim\n",
    "import torch.utils.data\n",
    "import torch.nn.functional as F\n",
    "import torchvision\n",
    "from torchvision import transforms\n",
    "from PIL import Image, ImageFile\n",
    "\n",
    "ImageFile.LOAD_TRUNCATED_IMAGES=True"
   ]
  },
  {
   "cell_type": "markdown",
   "id": "086feb3e-4d8f-4db2-8244-61afc0df3c5a",
   "metadata": {},
   "source": [
    "## Setting up DataLoaders"
   ]
  },
  {
   "cell_type": "markdown",
   "id": "6edf6f1b-35d6-4255-b299-4a8929d3573c",
   "metadata": {},
   "source": [
    "There are two key elements in PyTorch for working with data: `datasets` and `data loaders`. A dataset class helps manage the data you want to use, while data loaders feed this data into your neural network.\n",
    "\n",
    "The `torchvision` package provides a class called `ImageFolder`, which simplifies this process, especially when your data is organized in directories, with each directory representing a specific category or label. For example, in our case have a dataset with images of cats and fish, ImageFolder is a handy choice.\n",
    "\n",
    "The `check_image` function is a small utility function that we supply to the `is_valid_file` parameter within the ImageFolder class. Its purpose is to perform a quick check to ensure that PIL (Python Imaging Library) can successfully open the file. By using this function, we can avoid the need to manually clean up the downloaded dataset."
   ]
  },
  {
   "cell_type": "code",
   "execution_count": 2,
   "id": "a84f0bb7-8779-4477-8331-f89ea81ce20b",
   "metadata": {},
   "outputs": [],
   "source": [
    "def check_image(path):\n",
    "    try:\n",
    "        im = Image.open(path)\n",
    "        return True\n",
    "    except:\n",
    "        return False"
   ]
  },
  {
   "cell_type": "markdown",
   "id": "f3dea9fc-dcc1-4bb9-9d32-e09abd9eaad5",
   "metadata": {},
   "source": [
    "Set up the transforms for every image:\n",
    "\n",
    "- Resize to 64x64\n",
    "- Convert to tensor\n",
    "- Normalize using ImageNet mean & std"
   ]
  },
  {
   "cell_type": "code",
   "execution_count": 5,
   "id": "42e132af-e0a9-4549-8bac-28be1478aa05",
   "metadata": {},
   "outputs": [],
   "source": [
    "img_transforms = transforms.Compose([\n",
    "    transforms.Resize((64,64)),    \n",
    "    transforms.ToTensor(),\n",
    "    transforms.Normalize(mean=[0.485, 0.456, 0.406],\n",
    "                    std=[0.229, 0.224, 0.225] )\n",
    "    ])"
   ]
  },
  {
   "cell_type": "code",
   "execution_count": 6,
   "id": "d19ef0ff-cdde-4bde-a2d5-88c9a0c753d5",
   "metadata": {},
   "outputs": [],
   "source": [
    "train_data_path = \"./train/\"\n",
    "train_data = torchvision.datasets.ImageFolder(root=train_data_path,transform=img_transforms, is_valid_file=check_image)"
   ]
  },
  {
   "cell_type": "code",
   "execution_count": 7,
   "id": "87d8fdf0-e45a-424a-a3c2-cbb03c702ba7",
   "metadata": {},
   "outputs": [],
   "source": [
    "val_data_path = \"./val/\"\n",
    "val_data = torchvision.datasets.ImageFolder(root=val_data_path,transform=img_transforms, is_valid_file=check_image)"
   ]
  },
  {
   "cell_type": "code",
   "execution_count": 8,
   "id": "3dd18e00-84b3-42d6-ac53-71708370c728",
   "metadata": {},
   "outputs": [],
   "source": [
    "test_data_path = \"./test/\"\n",
    "test_data = torchvision.datasets.ImageFolder(root=test_data_path,transform=img_transforms, is_valid_file=check_image) "
   ]
  },
  {
   "cell_type": "code",
   "execution_count": 9,
   "id": "b81f7b27-1f1e-4baa-9fd4-4bd2f0ce6307",
   "metadata": {},
   "outputs": [],
   "source": [
    "batch_size=64"
   ]
  },
  {
   "cell_type": "code",
   "execution_count": 10,
   "id": "843987dc-3fc8-4199-87cf-0cae92c6dca6",
   "metadata": {},
   "outputs": [],
   "source": [
    "train_data_loader = torch.utils.data.DataLoader(train_data, batch_size=batch_size)\n",
    "val_data_loader  = torch.utils.data.DataLoader(val_data, batch_size=batch_size) \n",
    "test_data_loader  = torch.utils.data.DataLoader(test_data, batch_size=batch_size)"
   ]
  },
  {
   "cell_type": "markdown",
   "id": "84c80f03-8492-488a-b763-f9babfab1310",
   "metadata": {},
   "source": [
    "## Our First Model, SimpleNet\n",
    "SimpleNet is a very simple combination of three Linear layers and ReLu activations between them. Note that as we don't do a `softmax()` in our `forward()`, we will need to make sure we do it in our training function during the validation phase."
   ]
  },
  {
   "cell_type": "code",
   "execution_count": 13,
   "id": "415c4be4-1a38-4f34-9201-2fa0ca959a36",
   "metadata": {},
   "outputs": [],
   "source": [
    "class SimpleNet(nn.Module):\n",
    "\n",
    "    def __init__(self):\n",
    "        super(SimpleNet, self).__init__()\n",
    "        self.fc1 = nn.Linear(12288, 84) # 12288 = 64*64*3 beacuse each image size is (64*64) and have 3 layes RGB\n",
    "        self.fc2 = nn.Linear(84, 50)\n",
    "        self.fc3 = nn.Linear(50,2)\n",
    "    \n",
    "    def forward(self, x):\n",
    "        x = x.view(-1, 12288)\n",
    "        x = F.relu(self.fc1(x))\n",
    "        x = F.relu(self.fc2(x))\n",
    "        x = self.fc3(x)\n",
    "        return x"
   ]
  },
  {
   "cell_type": "code",
   "execution_count": 14,
   "id": "a60ab110-7dcc-4b12-9949-8fe746168c7b",
   "metadata": {},
   "outputs": [],
   "source": [
    "simplenet = SimpleNet()"
   ]
  },
  {
   "cell_type": "markdown",
   "id": "d9d1ae31-a893-471b-8564-ecfca6450641",
   "metadata": {},
   "source": [
    "## Create an optimizer\n",
    "Here, we're just using Adam as our optimizer with a learning rate of 0.001."
   ]
  },
  {
   "cell_type": "code",
   "execution_count": 15,
   "id": "db14598b-d4b8-4b9d-9b84-a582a63ba57f",
   "metadata": {},
   "outputs": [],
   "source": [
    "optimizer = optim.Adam(simplenet.parameters(), lr=0.001)"
   ]
  },
  {
   "cell_type": "markdown",
   "id": "354ec795-3007-4e55-9a44-8195af82816f",
   "metadata": {},
   "source": [
    "## Copy the model to GPU\n",
    "Copy the model to the GPU if available."
   ]
  },
  {
   "cell_type": "code",
   "execution_count": 17,
   "id": "c9acedec-f663-4138-ad6f-70de951611f3",
   "metadata": {},
   "outputs": [
    {
     "data": {
      "text/plain": [
       "SimpleNet(\n",
       "  (fc1): Linear(in_features=12288, out_features=84, bias=True)\n",
       "  (fc2): Linear(in_features=84, out_features=50, bias=True)\n",
       "  (fc3): Linear(in_features=50, out_features=2, bias=True)\n",
       ")"
      ]
     },
     "execution_count": 17,
     "metadata": {},
     "output_type": "execute_result"
    }
   ],
   "source": [
    "if torch.cuda.is_available():\n",
    "    device = torch.device(\"cuda\") \n",
    "else:\n",
    "    device = torch.device(\"cpu\")\n",
    "\n",
    "simplenet.to(device)"
   ]
  },
  {
   "cell_type": "markdown",
   "id": "9d19d5eb-fdf2-434b-b5d1-0f9aa563fddc",
   "metadata": {},
   "source": [
    "## Training\n",
    "Trains the model, copying batches to the GPU if required, calculating losses, optimizing the network and perform validation for each epoch."
   ]
  },
  {
   "cell_type": "code",
   "execution_count": 35,
   "id": "91645dbd-895f-4c09-94af-b8ccc6be58cb",
   "metadata": {},
   "outputs": [],
   "source": [
    "def train(model, optimizer, loss_fn, train_loader, val_loader, epochs=20, device=\"cpu\"):\n",
    "    for epoch in range(1, epochs+1):\n",
    "        # Training the model\n",
    "        training_loss = 0.0\n",
    "        valid_loss = 0.0\n",
    "        model.train()\n",
    "\n",
    "        # Loop through the training data\n",
    "        for batch in train_loader:\n",
    "            # resetting the gradients to zero \n",
    "            optimizer.zero_grad()\n",
    "            inputs, targets = batch\n",
    "\n",
    "            # copying batches data to the GPU\n",
    "            inputs = inputs.to(device)\n",
    "            targets = targets.to(device)\n",
    "\n",
    "            # Forward pass and loss calculation\n",
    "            output = model(inputs)\n",
    "            loss = loss_fn(output, targets)\n",
    "\n",
    "            # Backpropagation and optimization using gradient calculation\n",
    "            loss.backward()\n",
    "            optimizer.step()\n",
    "            \n",
    "            training_loss += loss.data.item() * inputs.size(0)\n",
    "        training_loss /= len(train_loader.dataset)\n",
    "\n",
    "        # Validation\n",
    "        model.eval()\n",
    "        num_correct = 0 \n",
    "        num_examples = 0\n",
    "\n",
    "        # Loop through the validation data\n",
    "        for batch in val_loader:\n",
    "            inputs, targets = batch\n",
    "            # copying batches data to the GPU\n",
    "            inputs = inputs.to(device)\n",
    "            targets = targets.to(device)\n",
    "\n",
    "            # Forward pass and Calculating validation loss\n",
    "            output = model(inputs)\n",
    "            loss = loss_fn(output,targets) \n",
    "            valid_loss += loss.data.item() * inputs.size(0)\n",
    "\n",
    "            # Calculate accuracy\n",
    "            correct = torch.eq(torch.max(F.softmax(output, dim=1), dim=1)[1], targets)\n",
    "            num_correct += torch.sum(correct).item()\n",
    "            num_examples += correct.shape[0]\n",
    "        valid_loss /= len(val_loader.dataset)\n",
    "\n",
    "        # Print training and validation results for this epoch\n",
    "        print('Epoch: {}, Training Loss: {:.2f}, Validation Loss: {:.2f}, accuracy = {:.2f}'.format(epoch, training_loss,\n",
    "        valid_loss, num_correct / num_examples))"
   ]
  },
  {
   "cell_type": "code",
   "execution_count": 36,
   "id": "3056675a-3c55-47d1-b4ba-3a95704e7b6f",
   "metadata": {},
   "outputs": [
    {
     "name": "stdout",
     "output_type": "stream",
     "text": [
      "Epoch: 1, Training Loss: 0.26, Validation Loss: 0.84, accuracy = 0.68\n",
      "Epoch: 2, Training Loss: 0.28, Validation Loss: 0.56, accuracy = 0.76\n",
      "Epoch: 3, Training Loss: 0.14, Validation Loss: 0.76, accuracy = 0.72\n",
      "Epoch: 4, Training Loss: 0.16, Validation Loss: 0.62, accuracy = 0.75\n",
      "Epoch: 5, Training Loss: 0.12, Validation Loss: 0.71, accuracy = 0.72\n"
     ]
    }
   ],
   "source": [
    "train(simplenet, optimizer,torch.nn.CrossEntropyLoss(), train_data_loader,val_data_loader, epochs=5, device=device)"
   ]
  },
  {
   "cell_type": "markdown",
   "id": "c7d2ccac-bca1-4693-9a5f-91a33b70f622",
   "metadata": {},
   "source": [
    "## Making predictions\n",
    "Labels are in alphanumeric order, so `cat` will be 0, `fish` will be 1. We'll need to transform the image and also make sure that the resulting tensor is copied to the appropriate device before applying our model to it."
   ]
  },
  {
   "cell_type": "code",
   "execution_count": 37,
   "id": "d0513a34-11d4-4d78-b5c8-8f949c1e6dfb",
   "metadata": {},
   "outputs": [
    {
     "name": "stdout",
     "output_type": "stream",
     "text": [
      "fish\n"
     ]
    }
   ],
   "source": [
    "labels = ['cat','fish']\n",
    "\n",
    "img = Image.open(\"./val/fish/100_1422.JPG\") \n",
    "img = img_transforms(img).to(device)\n",
    "img = torch.unsqueeze(img, 0) # add a dimension for batch\n",
    "\n",
    "simplenet.eval()\n",
    "prediction = F.softmax(simplenet(img), dim=1)\n",
    "prediction = prediction.argmax()\n",
    "print(labels[prediction]) "
   ]
  },
  {
   "cell_type": "markdown",
   "id": "b5ae71bd-6c15-4f30-a255-534e8994156d",
   "metadata": {},
   "source": [
    "## Saving Models\n",
    "We can either save the entire model using `save` or just the parameters using `state_dict`. Using the `state_dict` is normally preferable, as it allows you to reuse parameters even if the model's structure changes (or apply parameters from one model to another)."
   ]
  },
  {
   "cell_type": "code",
   "execution_count": 40,
   "id": "e1eb0704-b417-4f76-8b78-fc76fc29bd37",
   "metadata": {},
   "outputs": [],
   "source": [
    "torch.save(simplenet, \"./tmp/simplenet\") \n",
    "simplenet = torch.load(\"./tmp/simplenet\")  "
   ]
  },
  {
   "cell_type": "code",
   "execution_count": 41,
   "id": "b96c1e08-efcc-4c3c-93ee-083c28e72ff4",
   "metadata": {},
   "outputs": [
    {
     "data": {
      "text/plain": [
       "<All keys matched successfully>"
      ]
     },
     "execution_count": 41,
     "metadata": {},
     "output_type": "execute_result"
    }
   ],
   "source": [
    "torch.save(simplenet.state_dict(), \"./tmp/simplenet\")    \n",
    "simplenet = SimpleNet()\n",
    "simplenet_state_dict = torch.load(\"./tmp/simplenet\")\n",
    "simplenet.load_state_dict(simplenet_state_dict)   "
   ]
  },
  {
   "cell_type": "code",
   "execution_count": null,
   "id": "5bff7617-a882-4e55-b4a7-ff43da8b4b2d",
   "metadata": {},
   "outputs": [],
   "source": []
  }
 ],
 "metadata": {
  "kernelspec": {
   "display_name": "pytorch_venv",
   "language": "python",
   "name": "pytorch_venv"
  },
  "language_info": {
   "codemirror_mode": {
    "name": "ipython",
    "version": 3
   },
   "file_extension": ".py",
   "mimetype": "text/x-python",
   "name": "python",
   "nbconvert_exporter": "python",
   "pygments_lexer": "ipython3",
   "version": "3.11.2"
  }
 },
 "nbformat": 4,
 "nbformat_minor": 5
}
